{
 "cells": [
  {
   "cell_type": "markdown",
   "id": "de0fac3c",
   "metadata": {},
   "source": [
    "# Módulo 2 - Técnicas de Programação II\n",
    "## Aula 3\n",
    "- Gráficos com Matplotlib\n",
    "- Exercícios"
   ]
  },
  {
   "cell_type": "markdown",
   "id": "118d0b68",
   "metadata": {},
   "source": [
    "## Gráficos com Matplotlib\n",
    "O matplotlib é uma biblioteca com recursos para a geração de gráficos 2D a partir de arrays. Gráficos comuns podem ser criados com alta qualidade a partir de comandos simples, inspirados nos comandos gráficos do MATLAB.  \n",
    "Devido a sua alta qualidade e simplicidade de uso é a biblioteca gráfica mais popular para análise de dados. \n",
    "  \n",
    "**Documentação**: https://matplotlib.org/"
   ]
  },
  {
   "cell_type": "markdown",
   "id": "cf8dade5",
   "metadata": {},
   "source": [
    "### Instalação\n",
    "Caso já tenha instalado o pacote do **Matplotlib** ou está na dúvida, basta rodar o seguinte código:"
   ]
  },
  {
   "cell_type": "code",
   "execution_count": 19,
   "id": "e9a8552e",
   "metadata": {},
   "outputs": [],
   "source": [
    "import matplotlib"
   ]
  },
  {
   "cell_type": "markdown",
   "id": "61dec06c",
   "metadata": {},
   "source": [
    "Se este código não rodou por erro ou se você não possui este pacote, para obtê-lo é simples, rode a célula abaixo"
   ]
  },
  {
   "cell_type": "markdown",
   "id": "3dc1016e",
   "metadata": {},
   "source": [
    "### Import da biblioteca\n",
    "  \n",
    "Para utilizarmos o matplotlib importamos o submódulo **pyplot** conforme podem observar na célula abaixo."
   ]
  },
  {
   "cell_type": "code",
   "execution_count": 21,
   "id": "e5a2ef68",
   "metadata": {},
   "outputs": [],
   "source": [
    "import matplotlib.pyplot as plt"
   ]
  },
  {
   "cell_type": "markdown",
   "id": "9064be32",
   "metadata": {},
   "source": [
    "O conjunto de funções disponível em **matplotlib.pyplot** permite a criação de uma figura, uma área para exibir o gráfico na figura, desenho de linhas na área do gráfico, decoração do gráfico com rótulos, etc. A sintaxe utilizada é semelhante ao MATLAB.  \n",
    "   \n",
    "Para simplificar o trabalho ainda mais, o pyplot já inicia com uma figura e área de desenho padrão, que você não precisa definir, e assim o código para gerar um gráfico pode ser simplesmente:"
   ]
  },
  {
   "cell_type": "code",
   "execution_count": 22,
   "id": "d7b45a0d",
   "metadata": {},
   "outputs": [
    {
     "data": {
      "image/png": "[encoded data removed]",
      "text/plain": [
       "<Figure size 432x288 with 1 Axes>"
      ]
     },
     "metadata": {
      "needs_background": "light"
     },
     "output_type": "display_data"
    }
   ],
   "source": [
    "a = [1, 2, 3, 4, 5 ,6]\n",
    "b = [10, 5, 3, 4, 6, 8]\n",
    "plt.plot(a, b)\n",
    "plt.show()"
   ]
  },
  {
   "cell_type": "markdown",
   "id": "e7fee332",
   "metadata": {},
   "source": [
    "Para não haver necessidade de rodar o comando **plt.show()** em todas as plotagens de gráficos utilizamos uma função mágica do matplotlib cujo objetivo é de que a saída dos comandos de plotagem é exibida em linha diretamente abaixo da célula de código que o produziu."
   ]
  },
  {
   "cell_type": "code",
   "execution_count": 23,
   "id": "7df18f83",
   "metadata": {},
   "outputs": [],
   "source": [
    "%matplotlib inline"
   ]
  },
  {
   "cell_type": "markdown",
   "id": "61e83b01",
   "metadata": {},
   "source": [
    "Vamos importar também outros pacotes padrões"
   ]
  },
  {
   "cell_type": "code",
   "execution_count": 24,
   "id": "fa8b4261",
   "metadata": {},
   "outputs": [],
   "source": [
    "import pandas as pd\n",
    "import numpy as np"
   ]
  },
  {
   "cell_type": "markdown",
   "id": "e2774ed2",
   "metadata": {},
   "source": [
    "## Scatter (dispersão)\n",
    "**Documentação**: https://matplotlib.org/stable/api/_as_gen/matplotlib.pyplot.scatter.html"
   ]
  },
  {
   "cell_type": "code",
   "execution_count": 25,
   "id": "4dcbab53",
   "metadata": {},
   "outputs": [
    {
     "data": {
      "image/png": "[encoded data removed]",
      "text/plain": [
       "<Figure size 432x288 with 1 Axes>"
      ]
     },
     "metadata": {
      "needs_background": "light"
     },
     "output_type": "display_data"
    }
   ],
   "source": [
    "x = np.random.rand(10)\n",
    "y = np.random.rand(10)\n",
    "color = [1, 1, 2, 2, 2, 2, 3, 4, 1, 4]\n",
    "plt.scatter(x=x, y=y, c=color);"
   ]
  },
  {
   "cell_type": "markdown",
   "id": "561c0822",
   "metadata": {},
   "source": [
    "Importando o dataset dos pinguins"
   ]
  },
  {
   "cell_type": "code",
   "execution_count": 26,
   "id": "b204e867",
   "metadata": {},
   "outputs": [
    {
     "data": {
      "text/html": [
       "<div>\n",
       "<style scoped>\n",
       "    .dataframe tbody tr th:only-of-type {\n",
       "        vertical-align: middle;\n",
       "    }\n",
       "\n",
       "    .dataframe tbody tr th {\n",
       "        vertical-align: top;\n",
       "    }\n",
       "\n",
       "    .dataframe thead th {\n",
       "        text-align: right;\n",
       "    }\n",
       "</style>\n",
       "<table border=\"1\" class=\"dataframe\">\n",
       "  <thead>\n",
       "    <tr style=\"text-align: right;\">\n",
       "      <th></th>\n",
       "      <th>species</th>\n",
       "      <th>island</th>\n",
       "      <th>culmen_length_mm</th>\n",
       "      <th>culmen_depth_mm</th>\n",
       "      <th>flipper_length_mm</th>\n",
       "      <th>body_mass_g</th>\n",
       "      <th>sex</th>\n",
       "    </tr>\n",
       "  </thead>\n",
       "  <tbody>\n",
       "    <tr>\n",
       "      <th>0</th>\n",
       "      <td>Adelie</td>\n",
       "      <td>Torgersen</td>\n",
       "      <td>39.1</td>\n",
       "      <td>18.7</td>\n",
       "      <td>181.0</td>\n",
       "      <td>3750.0</td>\n",
       "      <td>MALE</td>\n",
       "    </tr>\n",
       "    <tr>\n",
       "      <th>1</th>\n",
       "      <td>Adelie</td>\n",
       "      <td>Torgersen</td>\n",
       "      <td>39.5</td>\n",
       "      <td>17.4</td>\n",
       "      <td>186.0</td>\n",
       "      <td>3800.0</td>\n",
       "      <td>FEMALE</td>\n",
       "    </tr>\n",
       "    <tr>\n",
       "      <th>2</th>\n",
       "      <td>Adelie</td>\n",
       "      <td>Torgersen</td>\n",
       "      <td>40.3</td>\n",
       "      <td>18.0</td>\n",
       "      <td>195.0</td>\n",
       "      <td>3250.0</td>\n",
       "      <td>FEMALE</td>\n",
       "    </tr>\n",
       "    <tr>\n",
       "      <th>3</th>\n",
       "      <td>Adelie</td>\n",
       "      <td>Torgersen</td>\n",
       "      <td>NaN</td>\n",
       "      <td>NaN</td>\n",
       "      <td>NaN</td>\n",
       "      <td>NaN</td>\n",
       "      <td>NaN</td>\n",
       "    </tr>\n",
       "    <tr>\n",
       "      <th>4</th>\n",
       "      <td>Adelie</td>\n",
       "      <td>Torgersen</td>\n",
       "      <td>36.7</td>\n",
       "      <td>19.3</td>\n",
       "      <td>193.0</td>\n",
       "      <td>3450.0</td>\n",
       "      <td>FEMALE</td>\n",
       "    </tr>\n",
       "  </tbody>\n",
       "</table>\n",
       "</div>"
      ],
      "text/plain": [
       "  species     island  culmen_length_mm  culmen_depth_mm  flipper_length_mm  \\\n",
       "0  Adelie  Torgersen              39.1             18.7              181.0   \n",
       "1  Adelie  Torgersen              39.5             17.4              186.0   \n",
       "2  Adelie  Torgersen              40.3             18.0              195.0   \n",
       "3  Adelie  Torgersen               NaN              NaN                NaN   \n",
       "4  Adelie  Torgersen              36.7             19.3              193.0   \n",
       "\n",
       "   body_mass_g     sex  \n",
       "0       3750.0    MALE  \n",
       "1       3800.0  FEMALE  \n",
       "2       3250.0  FEMALE  \n",
       "3          NaN     NaN  \n",
       "4       3450.0  FEMALE  "
      ]
     },
     "execution_count": 26,
     "metadata": {},
     "output_type": "execute_result"
    }
   ],
   "source": [
    "df_size = pd.read_csv('./data/penguins_size.csv')\n",
    "df_size.head()"
   ]
  },
  {
   "cell_type": "markdown",
   "id": "47b81398",
   "metadata": {},
   "source": [
    "Para plotagem dos gráficos existem duas formas básicas:\n",
    "1. Passar nos eixos X e Y tanto as colunas quanto o dataframe no formato df['coluna'] \n",
    "2. Passar apenas a string com nome das colunas para os parâmetros X e Y e o dataframe no parâmetro data"
   ]
  },
  {
   "cell_type": "code",
   "execution_count": 27,
   "id": "66f76424",
   "metadata": {},
   "outputs": [
    {
     "data": {
      "image/png": "[encoded data removed]",
      "text/plain": [
       "<Figure size 432x288 with 1 Axes>"
      ]
     },
     "metadata": {
      "needs_background": "light"
     },
     "output_type": "display_data"
    }
   ],
   "source": [
    "plt.scatter(x=df_size['body_mass_g'], y=df_size['culmen_depth_mm']);"
   ]
  },
  {
   "cell_type": "code",
   "execution_count": 28,
   "id": "cde86169",
   "metadata": {},
   "outputs": [
    {
     "data": {
      "image/png": "[encoded data removed]",
      "text/plain": [
       "<Figure size 432x288 with 1 Axes>"
      ]
     },
     "metadata": {
      "needs_background": "light"
     },
     "output_type": "display_data"
    }
   ],
   "source": [
    "plt.scatter('body_mass_g', 'culmen_depth_mm', data=df_size);"
   ]
  },
  {
   "cell_type": "markdown",
   "id": "9dcf5bd4",
   "metadata": {},
   "source": [
    "É possíve verificar a diferença entre as plotagens através do Pandas e Matplotlib por meio do código abaixo."
   ]
  },
  {
   "cell_type": "code",
   "execution_count": 29,
   "id": "d11b8cf0",
   "metadata": {
    "scrolled": false
   },
   "outputs": [
    {
     "data": {
      "image/png": "[encoded data removed]",
      "text/plain": [
       "<Figure size 432x288 with 1 Axes>"
      ]
     },
     "metadata": {
      "needs_background": "light"
     },
     "output_type": "display_data"
    },
    {
     "data": {
      "image/png": "[encoded data removed]",
      "text/plain": [
       "<Figure size 432x288 with 1 Axes>"
      ]
     },
     "metadata": {
      "needs_background": "light"
     },
     "output_type": "display_data"
    }
   ],
   "source": [
    "#Matplotlib\n",
    "plt.scatter(x=df_size['body_mass_g'], y=df_size['culmen_depth_mm'])\n",
    "#Pandas\n",
    "df_size.plot(x='body_mass_g', y='culmen_depth_mm', kind='scatter');"
   ]
  },
  {
   "cell_type": "markdown",
   "id": "09032f97",
   "metadata": {},
   "source": [
    "Nota-se que visualmente não há muita diferença, porém a sintaxe que gera os gráficos possui certas diferenças."
   ]
  },
  {
   "cell_type": "markdown",
   "id": "521148c5",
   "metadata": {},
   "source": [
    "Podemos alterar as cores dos marcadores através de alguma variável do próprio dataframe como por exemplo o sexo dos pinguins.  \n",
    "  \n",
    "Por padrão o parâmetro *c* do scatter necessita de uma lista apenas com cores ou números. Como no nosso dataframe as categorias são MALE, FEMALE e NaN, apenas alteramos estes valores para 0, 1 e 2. "
   ]
  },
  {
   "cell_type": "code",
   "execution_count": 30,
   "id": "25c69884",
   "metadata": {},
   "outputs": [
    {
     "data": {
      "text/plain": [
       "MALE      168\n",
       "FEMALE    165\n",
       ".           1\n",
       "Name: sex, dtype: int64"
      ]
     },
     "execution_count": 30,
     "metadata": {},
     "output_type": "execute_result"
    }
   ],
   "source": [
    "df_size['sex'].value_counts()"
   ]
  },
  {
   "cell_type": "code",
   "execution_count": 31,
   "id": "9df538af",
   "metadata": {},
   "outputs": [
    {
     "data": {
      "text/plain": [
       "10"
      ]
     },
     "execution_count": 31,
     "metadata": {},
     "output_type": "execute_result"
    }
   ],
   "source": [
    "df_size['sex'].isnull().sum()"
   ]
  },
  {
   "cell_type": "markdown",
   "id": "4200305a",
   "metadata": {},
   "source": [
    "Para simplificar iremos excluir os valores NaN"
   ]
  },
  {
   "cell_type": "code",
   "execution_count": 32,
   "id": "b252e30f",
   "metadata": {},
   "outputs": [],
   "source": [
    "df_tratado_sex = df_size.dropna(subset=['sex'])"
   ]
  },
  {
   "cell_type": "code",
   "execution_count": 33,
   "id": "5de0bf1b",
   "metadata": {},
   "outputs": [],
   "source": [
    "df_tratado = df_size.dropna()"
   ]
  },
  {
   "cell_type": "code",
   "execution_count": 34,
   "id": "3420633d",
   "metadata": {},
   "outputs": [
    {
     "data": {
      "text/plain": [
       "0"
      ]
     },
     "execution_count": 34,
     "metadata": {},
     "output_type": "execute_result"
    }
   ],
   "source": [
    "df_tratado['sex'].isnull().sum()"
   ]
  },
  {
   "cell_type": "code",
   "execution_count": 35,
   "id": "6f02775a",
   "metadata": {
    "scrolled": false
   },
   "outputs": [
    {
     "data": {
      "image/png": "[encoded data removed]",
      "text/plain": [
       "<Figure size 432x288 with 1 Axes>"
      ]
     },
     "metadata": {
      "needs_background": "light"
     },
     "output_type": "display_data"
    }
   ],
   "source": [
    "plt.scatter(x=df_tratado['body_mass_g'], y=df_tratado['culmen_depth_mm']);"
   ]
  },
  {
   "cell_type": "markdown",
   "id": "945c5d87",
   "metadata": {},
   "source": [
    "Utilizaremos a função LabelEncoder responsável por fazer a transformação das categorias em números para possibilitar a leitura do matplotlib."
   ]
  },
  {
   "cell_type": "code",
   "execution_count": 36,
   "id": "bfee490d",
   "metadata": {},
   "outputs": [
    {
     "ename": "ModuleNotFoundError",
     "evalue": "No module named 'sklearn'",
     "output_type": "error",
     "traceback": [
      "\u001b[1;31m---------------------------------------------------------------------------\u001b[0m",
      "\u001b[1;31mModuleNotFoundError\u001b[0m                       Traceback (most recent call last)",
      "\u001b[1;32mc:\\Users\\leoei\\Documents\\GitHub\\lets-code-safra\\Técnicas de Programação II\\Aula 3 - Matplotlib.ipynb Célula: 34\u001b[0m in \u001b[0;36m<cell line: 1>\u001b[1;34m()\u001b[0m\n\u001b[1;32m----> <a href='vscode-notebook-cell:/c%3A/Users/leoei/Documents/GitHub/lets-code-safra/T%C3%A9cnicas%20de%20Programa%C3%A7%C3%A3o%20II/Aula%203%20-%20Matplotlib.ipynb#ch0000033?line=0'>1</a>\u001b[0m \u001b[39mfrom\u001b[39;00m \u001b[39msklearn\u001b[39;00m \u001b[39mimport\u001b[39;00m preprocessing\n\u001b[0;32m      <a href='vscode-notebook-cell:/c%3A/Users/leoei/Documents/GitHub/lets-code-safra/T%C3%A9cnicas%20de%20Programa%C3%A7%C3%A3o%20II/Aula%203%20-%20Matplotlib.ipynb#ch0000033?line=2'>3</a>\u001b[0m le \u001b[39m=\u001b[39m preprocessing\u001b[39m.\u001b[39mLabelEncoder()\n\u001b[0;32m      <a href='vscode-notebook-cell:/c%3A/Users/leoei/Documents/GitHub/lets-code-safra/T%C3%A9cnicas%20de%20Programa%C3%A7%C3%A3o%20II/Aula%203%20-%20Matplotlib.ipynb#ch0000033?line=3'>4</a>\u001b[0m df_tratado[\u001b[39m'\u001b[39m\u001b[39msex_encoded\u001b[39m\u001b[39m'\u001b[39m] \u001b[39m=\u001b[39m le\u001b[39m.\u001b[39mfit_transform(df_tratado[\u001b[39m'\u001b[39m\u001b[39msex\u001b[39m\u001b[39m'\u001b[39m])\n",
      "\u001b[1;31mModuleNotFoundError\u001b[0m: No module named 'sklearn'"
     ]
    }
   ],
   "source": [
    "from sklearn import preprocessing\n",
    "\n",
    "le = preprocessing.LabelEncoder()\n",
    "df_tratado['sex_encoded'] = le.fit_transform(df_tratado['sex'])"
   ]
  },
  {
   "cell_type": "code",
   "execution_count": null,
   "id": "ffd484b6",
   "metadata": {},
   "outputs": [],
   "source": [
    "df_tratado.head()"
   ]
  },
  {
   "cell_type": "code",
   "execution_count": null,
   "id": "222bb976",
   "metadata": {},
   "outputs": [],
   "source": [
    "df_tratado['sex'].value_counts()"
   ]
  },
  {
   "cell_type": "code",
   "execution_count": null,
   "id": "83b8d839",
   "metadata": {},
   "outputs": [],
   "source": [
    "df_tratado['sex_encoded'].value_counts()"
   ]
  },
  {
   "cell_type": "code",
   "execution_count": null,
   "id": "09983718",
   "metadata": {
    "scrolled": false
   },
   "outputs": [],
   "source": [
    "ax = plt.scatter(x=df_tratado['body_mass_g'], y=df_tratado['culmen_depth_mm'], c=df_tratado['sex_encoded']);"
   ]
  },
  {
   "cell_type": "markdown",
   "id": "8bdc8fc1",
   "metadata": {},
   "source": [
    "Ajustando o tamanho da figura na qual o gráfico será plotado"
   ]
  },
  {
   "cell_type": "code",
   "execution_count": null,
   "id": "cc714dc2",
   "metadata": {},
   "outputs": [],
   "source": [
    "plt.figure(figsize=(12,6))\n",
    "\n",
    "ax = plt.scatter(x=df_tratado['body_mass_g'], y=df_tratado['culmen_depth_mm'], c=df_tratado['sex_encoded'])\n",
    "plt.legend(handles=ax.legend_elements()[0], labels=['None', 'Female', 'Male'])\n",
    "\n",
    "plt.xlabel('Massa corporal')\n",
    "plt.ylabel('Altura do bico')\n",
    "plt.title('Relação entre massa corporal e altura do bico dos pinguins', fontsize=15);"
   ]
  },
  {
   "cell_type": "markdown",
   "id": "c83dba76",
   "metadata": {},
   "source": [
    "## Linhas\n",
    "**Documentação**: https://matplotlib.org/stable/api/_as_gen/matplotlib.pyplot.plot.html"
   ]
  },
  {
   "cell_type": "code",
   "execution_count": null,
   "id": "1bab6d0a",
   "metadata": {},
   "outputs": [],
   "source": [
    "df_vendas = pd.DataFrame({'Mês' : ['Jan', 'Fev', 'Mar', 'Abr', 'Jan', 'Fev', 'Mar', 'Abr', 'Jan', 'Fev', 'Mar', 'Abr'],\n",
    "                         'Quantidade' : np.random.randint(low=100, size=12),\n",
    "                          'Veículo' : np.repeat(['HB20', 'Onix', 'Sandero'],4)})\n",
    "df_vendas.head()"
   ]
  },
  {
   "cell_type": "code",
   "execution_count": null,
   "id": "a4b547f5",
   "metadata": {
    "scrolled": true
   },
   "outputs": [],
   "source": [
    "plt.plot(df_vendas[df_vendas['Veículo']=='HB20']['Mês'], df_vendas[df_vendas['Veículo']=='HB20']['Quantidade']);"
   ]
  },
  {
   "cell_type": "code",
   "execution_count": null,
   "id": "b082d293",
   "metadata": {},
   "outputs": [],
   "source": [
    "plt.plot('Mês', 'Quantidade', data=df_vendas[df_vendas['Veículo']=='HB20']);"
   ]
  },
  {
   "cell_type": "markdown",
   "id": "311971a2",
   "metadata": {},
   "source": [
    "### Estrutura  \n",
    "No matplotlib, temos dois conceitos importantes:  \n",
    "  \n",
    "* Área de plotagem (eixos ou Axes)\n",
    "    área onde os gráficos (linhas, barras, pontos, labels, ticks, etc) aparecem. Cada Axes possui um eixo-x e eixo-y.\n",
    "* Figure\n",
    "    é o container de nível superior que mantém toda a estrutura. É a janela onde tudo é desenhado e controlado. Dentro dele podemos ter vários gráficos independentes.\n",
    "  \n",
    "  \n",
    "Antes de gerarmos múltiplos gráficos, precisamos decidir:\n",
    "\n",
    "* podemos imprimir dois gráficos, ex: duas linhas, na mesma área de plotagem\n",
    "* ou em áreas de plotagens diferentes."
   ]
  },
  {
   "cell_type": "markdown",
   "id": "55f1e214",
   "metadata": {},
   "source": [
    "**No mesmo Eixo**"
   ]
  },
  {
   "cell_type": "code",
   "execution_count": null,
   "id": "9ad80af0",
   "metadata": {
    "scrolled": true
   },
   "outputs": [],
   "source": [
    "plt.plot('Mês', 'Quantidade', data=df_vendas[df_vendas['Veículo']=='HB20'], label='HB20')\n",
    "plt.plot('Mês', 'Quantidade', data=df_vendas[df_vendas['Veículo']=='Onix'], label='Onix')\n",
    "plt.plot('Mês', 'Quantidade', data=df_vendas[df_vendas['Veículo']=='Sandero'], label='Sander')\n",
    "\n",
    "plt.legend();"
   ]
  },
  {
   "cell_type": "markdown",
   "id": "8cd637ff",
   "metadata": {},
   "source": [
    "**Em vários eixos**  \n",
    "Para plotar os gráficos em vários eixos utilizaresmos o método *plt.subplots*, cuja função é gerar uma figura e um conjunto de eixos pré-posicionados num formato de grade.  \n",
    "  \n",
    "Para isso, ao chamarmos essa função, iremos passar dois argumentos:\n",
    "* nrows: indica quantas linhas. \n",
    "* ncols: indinca quantas colunas.\n",
    "  \n",
    "No exemplo abaixo teremos 4 gráficos sendo, portanto, 2 linhas e 2 colunas. Desta forma, retornará uma tupla de dois elementos:  \n",
    "  \n",
    "* um objeto do tipo Figure que representa a figura  \n",
    "* lista ou matriz de eixos  \n",
    "  \n",
    "Podemos acessar cada eixo usando a notação de colchetes, e invocar a função de plot normalmente."
   ]
  },
  {
   "cell_type": "code",
   "execution_count": null,
   "id": "bb2c7c3c",
   "metadata": {},
   "outputs": [],
   "source": [
    "fig, axs = plt.subplots(2, 2, figsize=(12,5))\n",
    "\n",
    "axs[0,0].text(0.4, 0.4, 'Gráfico[0,0]')\n",
    "axs[0,1].text(0.4, 0.4, 'Gráfico[0,1]')\n",
    "axs[1,0].text(0.4, 0.4, 'Gráfico[1,0]')\n",
    "axs[1,1].text(0.4, 0.4, 'Gráfico[1,1]');"
   ]
  },
  {
   "cell_type": "markdown",
   "id": "106a5062",
   "metadata": {},
   "source": [
    "No exemplo de vendas temos 3 gráficos, por isso é possível fazer os subplots com 3 linhas e 1 coluna ou 1 linha e 3 colunas. Aqui, seguiremos com o segundo casO (1 linha e 3 colunas).  \n",
    "\n",
    "Repare que ao passar nrows=1, espertamente, o matplotlib não devolve uma matriz e sim uma lista.  "
   ]
  },
  {
   "cell_type": "code",
   "execution_count": null,
   "id": "2732f1fd",
   "metadata": {
    "scrolled": true
   },
   "outputs": [],
   "source": [
    "fig, axs = plt.subplots(1, 3, figsize=(12,4), sharey=True)\n",
    "\n",
    "fig.suptitle('Vendas de carros', fontsize=15, y=1.01)\n",
    "axs[0].plot('Mês', 'Quantidade', data=df_vendas[df_vendas['Veículo']=='HB20'], c='red', label = 'HB20')\n",
    "axs[1].plot('Mês', 'Quantidade', data=df_vendas[df_vendas['Veículo']=='Onix'], c='blue', label = 'Onix')\n",
    "axs[2].plot('Mês', 'Quantidade', data=df_vendas[df_vendas['Veículo']=='Sandero'], c='green', label = 'Sandero')\n",
    "\n",
    "axs[0].set(ylabel='Quantidade', title='HB20')\n",
    "axs[1].set(xlabel='Mês', title='Onix')\n",
    "axs[2].set(title='Sandero');"
   ]
  },
  {
   "cell_type": "markdown",
   "id": "7c021bdc",
   "metadata": {},
   "source": [
    "Para diferenciarmos os gráficos podemos utilizar os parâmetros linewidth, linestyle e color. Estes parâmetros podem ser utilizados por meio de abreviações de linewidth = lw, linestyle = ls e color = c."
   ]
  },
  {
   "cell_type": "code",
   "execution_count": null,
   "id": "9b807de7",
   "metadata": {
    "scrolled": false
   },
   "outputs": [],
   "source": [
    "fig, ax = plt.subplots(figsize=(12,6))\n",
    "\n",
    "ax.plot('Mês', 'Quantidade', data=df_vendas[df_vendas['Veículo']=='HB20'], c='red', ls='--', label='HB20')\n",
    "ax.plot('Mês', 'Quantidade', data=df_vendas[df_vendas['Veículo']=='Onix'], c='blue', ls=':', label='Onix')\n",
    "ax.plot('Mês', 'Quantidade', data=df_vendas[df_vendas['Veículo']=='Sandero'], c='green', ls='-.', label='Sandero', lw=4);\n",
    "\n",
    "ax.set_xlabel('Mês')\n",
    "ax.set_ylabel('Quantidade')\n",
    "ax.set_title('Quantidade de veículos vendidos por mês')\n",
    "\n",
    "ax.legend(loc='upper left');"
   ]
  },
  {
   "cell_type": "code",
   "execution_count": null,
   "id": "6b954725",
   "metadata": {},
   "outputs": [],
   "source": [
    "x = range(10)\n",
    "y1 = [n ** 2 for n in x]\n",
    "y2 = [n ** 3 for n in x]\n",
    "\n",
    "figure = plt.figure(figsize=(8,5))\n",
    "\n",
    "ax1 = figure.add_axes([0.1, 0.05, 0.8, 0.8])\n",
    "ax2 = figure.add_axes([0.2, 0.5, 0.3, 0.3])\n",
    "ax1.plot(x, y1, c='red', ls='--', lw=5)\n",
    "ax2.plot(x, y2, c='#FF00FF', marker='o')\n",
    "plt.show()"
   ]
  },
  {
   "cell_type": "code",
   "execution_count": null,
   "id": "bbb85fbd",
   "metadata": {},
   "outputs": [],
   "source": [
    "x = range(10)\n",
    "x2 = range(2, 6)\n",
    "y1 = [n ** 2 for n in x]\n",
    "y2 = [n ** 2 for n in x2]\n",
    "\n",
    "figure = plt.figure(figsize=(8,5))\n",
    "\n",
    "ax1 = figure.add_axes([0.1, 0.05, 0.8, 0.8])\n",
    "ax2 = figure.add_axes([0.2, 0.5, 0.3, 0.3])\n",
    "ax1.plot(x, y1, c='red', ls='--', lw=5)\n",
    "ax2.plot(x2, y2, c='red', ls='--')\n",
    "plt.show()"
   ]
  },
  {
   "cell_type": "markdown",
   "id": "b45f7ddc",
   "metadata": {},
   "source": [
    "Para utilizar cores hexadecimal é possível consultar alguns códigos no link https://celke.com.br/artigo/tabela-de-cores-html-nome-hexadecimal-rgb"
   ]
  },
  {
   "cell_type": "markdown",
   "id": "90e31b3c",
   "metadata": {},
   "source": [
    "## Pizza\n",
    "**Documentação**: https://matplotlib.org/stable/api/_as_gen/matplotlib.pyplot.pie.html"
   ]
  },
  {
   "cell_type": "code",
   "execution_count": null,
   "id": "3b7ec8dc",
   "metadata": {},
   "outputs": [],
   "source": [
    "df_veiculo = df_vendas.pivot_table(index='Veículo', values='Quantidade', aggfunc='sum')\n",
    "df_veiculo.head()"
   ]
  },
  {
   "cell_type": "code",
   "execution_count": null,
   "id": "747f0268",
   "metadata": {},
   "outputs": [],
   "source": [
    "plt.pie('Quantidade', data=df_veiculo);"
   ]
  },
  {
   "cell_type": "code",
   "execution_count": null,
   "id": "1780b43e",
   "metadata": {},
   "outputs": [],
   "source": [
    "plt.pie('Quantidade', data=df_veiculo, autopct='%1.0f%%')\n",
    "plt.legend(labels=['HB20', 'Onix', 'Sandero']);"
   ]
  },
  {
   "cell_type": "code",
   "execution_count": null,
   "id": "ad0e8d91",
   "metadata": {},
   "outputs": [],
   "source": [
    "df_vendas['Mês'] = pd.Categorical(df_vendas['Mês'], categories=[\"Jan\", \"Fev\", \"Mar\", \"Abr\"], ordered=True)\n",
    "df_mes = df_vendas.pivot_table(index='Mês', values='Quantidade', aggfunc='sum')\n",
    "df_mes.head()"
   ]
  },
  {
   "cell_type": "code",
   "execution_count": null,
   "id": "3fcc2015",
   "metadata": {},
   "outputs": [],
   "source": [
    "plt.pie('Quantidade', data=df_mes, autopct='%1.0f%%')\n",
    "plt.legend(labels=['Jan', 'Fev', 'Mar', 'Abr']);"
   ]
  },
  {
   "cell_type": "markdown",
   "id": "b2f58905",
   "metadata": {},
   "source": [
    "## Barras\n",
    "**Documentação**: https://matplotlib.org/stable/api/_as_gen/matplotlib.pyplot.bar.html"
   ]
  },
  {
   "cell_type": "code",
   "execution_count": null,
   "id": "09b1ac70",
   "metadata": {},
   "outputs": [],
   "source": [
    "plt.bar(df_veiculo.index, df_veiculo['Quantidade'], color=['#ADD8E6', '#4682B4', '#4169E1']);"
   ]
  },
  {
   "cell_type": "code",
   "execution_count": null,
   "id": "6adfcaae",
   "metadata": {},
   "outputs": [],
   "source": [
    "ax = plt.bar(df_mes.index, df_mes['Quantidade'], color=['#7FFFD4', '#66CDAA', '#5F9EA0', '#008080'])\n",
    "plt.title('Quantidade de vendas por mês');"
   ]
  },
  {
   "cell_type": "markdown",
   "id": "1807171d",
   "metadata": {},
   "source": [
    "**Barras Horizontais**"
   ]
  },
  {
   "cell_type": "code",
   "execution_count": null,
   "id": "b98b6d04",
   "metadata": {},
   "outputs": [],
   "source": [
    "plt.barh(df_vendas['Veículo'], df_vendas['Quantidade']);"
   ]
  },
  {
   "cell_type": "markdown",
   "id": "47b5af03",
   "metadata": {},
   "source": [
    "## Histograma\n",
    "**Documentação**: https://matplotlib.org/stable/gallery/statistics/hist.html"
   ]
  },
  {
   "cell_type": "code",
   "execution_count": null,
   "id": "971faff0",
   "metadata": {},
   "outputs": [],
   "source": [
    "plt.hist(bins=20, x=df_size['body_mass_g'], alpha=0.5, color='green');"
   ]
  },
  {
   "cell_type": "code",
   "execution_count": null,
   "id": "6fb4c12a",
   "metadata": {
    "scrolled": true
   },
   "outputs": [],
   "source": [
    "fig, ax = plt.subplots()\n",
    "graf = ax.hist(x=df_size['body_mass_g'], alpha=0.5, color='green');"
   ]
  },
  {
   "cell_type": "code",
   "execution_count": null,
   "id": "fbf0b2cf",
   "metadata": {
    "scrolled": true
   },
   "outputs": [],
   "source": [
    "plt.hist(df_size['body_mass_g'], alpha=0.5, color='green', edgecolor='black')\n",
    "plt.xlabel('Massa dos Pinguins', fontsize=12);"
   ]
  },
  {
   "cell_type": "markdown",
   "id": "88db82af",
   "metadata": {},
   "source": [
    "## Boxplot\n",
    "**Documentação**: https://matplotlib.org/3.1.1/api/_as_gen/matplotlib.pyplot.boxplot.html"
   ]
  },
  {
   "cell_type": "code",
   "execution_count": null,
   "id": "27de0bd1",
   "metadata": {},
   "outputs": [],
   "source": [
    "plt.boxplot(df_tratado['body_mass_g']);"
   ]
  },
  {
   "cell_type": "markdown",
   "id": "a3848f44",
   "metadata": {},
   "source": [
    "## Exercício\n",
    "Agora é hora de praticar!  \n",
    "  \n",
    "Os bancos obtêm uma receita importante com empréstimos concedidos. Mas muitas vezes está associado ao risco. O mutuário pode não pagar o empréstimo. Para mitigar esse problema, os bancos decidiram usar o Machine Learning para superar esse problema. Eles coletaram dados anteriores sobre os tomadores de empréstimos e gostariam que você desenvolvesse um modelo de ML forte para classificar se algum novo devedor provavelmente entrará em default ou não.  \n",
    "  \n",
    "O conjunto de dados é enorme e consiste em vários fatores determinísticos, como renda do mutuário, gênero, finalidade do empréstimo, etc. O conjunto de dados está sujeito a uma forte multicolinearidade e valores vazios. Você pode superar esses fatores e construir um classificador forte para prever inadimplentes?"
   ]
  },
  {
   "cell_type": "markdown",
   "id": "d46cf823",
   "metadata": {},
   "source": [
    "Importe a base **Loan_Default.csv** que está em csv dentro do diretório **data**."
   ]
  },
  {
   "cell_type": "code",
   "execution_count": 1,
   "id": "8a440e00",
   "metadata": {
    "scrolled": true
   },
   "outputs": [],
   "source": [
    "import pandas as pd\n",
    "import matplotlib.pyplot as plt\n",
    "import numpy as np"
   ]
  },
  {
   "cell_type": "code",
   "execution_count": 2,
   "id": "f26b0f2d",
   "metadata": {},
   "outputs": [
    {
     "data": {
      "text/html": [
       "<div>\n",
       "<style scoped>\n",
       "    .dataframe tbody tr th:only-of-type {\n",
       "        vertical-align: middle;\n",
       "    }\n",
       "\n",
       "    .dataframe tbody tr th {\n",
       "        vertical-align: top;\n",
       "    }\n",
       "\n",
       "    .dataframe thead th {\n",
       "        text-align: right;\n",
       "    }\n",
       "</style>\n",
       "<table border=\"1\" class=\"dataframe\">\n",
       "  <thead>\n",
       "    <tr style=\"text-align: right;\">\n",
       "      <th></th>\n",
       "      <th>ID</th>\n",
       "      <th>year</th>\n",
       "      <th>loan_limit</th>\n",
       "      <th>Gender</th>\n",
       "      <th>approv_in_adv</th>\n",
       "      <th>loan_type</th>\n",
       "      <th>loan_purpose</th>\n",
       "      <th>Credit_Worthiness</th>\n",
       "      <th>open_credit</th>\n",
       "      <th>business_or_commercial</th>\n",
       "      <th>...</th>\n",
       "      <th>construction_type</th>\n",
       "      <th>occupancy_type</th>\n",
       "      <th>income</th>\n",
       "      <th>credit_type</th>\n",
       "      <th>Credit_Score</th>\n",
       "      <th>age</th>\n",
       "      <th>submission_of_application</th>\n",
       "      <th>LTV</th>\n",
       "      <th>Region</th>\n",
       "      <th>Status</th>\n",
       "    </tr>\n",
       "  </thead>\n",
       "  <tbody>\n",
       "    <tr>\n",
       "      <th>0</th>\n",
       "      <td>24890</td>\n",
       "      <td>2019</td>\n",
       "      <td>cf</td>\n",
       "      <td>Sex Not Available</td>\n",
       "      <td>nopre</td>\n",
       "      <td>type1</td>\n",
       "      <td>p1</td>\n",
       "      <td>l1</td>\n",
       "      <td>nopc</td>\n",
       "      <td>nob/c</td>\n",
       "      <td>...</td>\n",
       "      <td>sb</td>\n",
       "      <td>pr</td>\n",
       "      <td>1740.0</td>\n",
       "      <td>EXP</td>\n",
       "      <td>758</td>\n",
       "      <td>25-34</td>\n",
       "      <td>to_inst</td>\n",
       "      <td>98.728814</td>\n",
       "      <td>south</td>\n",
       "      <td>1</td>\n",
       "    </tr>\n",
       "    <tr>\n",
       "      <th>1</th>\n",
       "      <td>24891</td>\n",
       "      <td>2019</td>\n",
       "      <td>cf</td>\n",
       "      <td>Male</td>\n",
       "      <td>nopre</td>\n",
       "      <td>type2</td>\n",
       "      <td>p1</td>\n",
       "      <td>l1</td>\n",
       "      <td>nopc</td>\n",
       "      <td>b/c</td>\n",
       "      <td>...</td>\n",
       "      <td>sb</td>\n",
       "      <td>pr</td>\n",
       "      <td>4980.0</td>\n",
       "      <td>EQUI</td>\n",
       "      <td>552</td>\n",
       "      <td>55-64</td>\n",
       "      <td>to_inst</td>\n",
       "      <td>NaN</td>\n",
       "      <td>North</td>\n",
       "      <td>1</td>\n",
       "    </tr>\n",
       "    <tr>\n",
       "      <th>2</th>\n",
       "      <td>24892</td>\n",
       "      <td>2019</td>\n",
       "      <td>cf</td>\n",
       "      <td>Male</td>\n",
       "      <td>pre</td>\n",
       "      <td>type1</td>\n",
       "      <td>p1</td>\n",
       "      <td>l1</td>\n",
       "      <td>nopc</td>\n",
       "      <td>nob/c</td>\n",
       "      <td>...</td>\n",
       "      <td>sb</td>\n",
       "      <td>pr</td>\n",
       "      <td>9480.0</td>\n",
       "      <td>EXP</td>\n",
       "      <td>834</td>\n",
       "      <td>35-44</td>\n",
       "      <td>to_inst</td>\n",
       "      <td>80.019685</td>\n",
       "      <td>south</td>\n",
       "      <td>0</td>\n",
       "    </tr>\n",
       "    <tr>\n",
       "      <th>3</th>\n",
       "      <td>24893</td>\n",
       "      <td>2019</td>\n",
       "      <td>cf</td>\n",
       "      <td>Male</td>\n",
       "      <td>nopre</td>\n",
       "      <td>type1</td>\n",
       "      <td>p4</td>\n",
       "      <td>l1</td>\n",
       "      <td>nopc</td>\n",
       "      <td>nob/c</td>\n",
       "      <td>...</td>\n",
       "      <td>sb</td>\n",
       "      <td>pr</td>\n",
       "      <td>11880.0</td>\n",
       "      <td>EXP</td>\n",
       "      <td>587</td>\n",
       "      <td>45-54</td>\n",
       "      <td>not_inst</td>\n",
       "      <td>69.376900</td>\n",
       "      <td>North</td>\n",
       "      <td>0</td>\n",
       "    </tr>\n",
       "    <tr>\n",
       "      <th>4</th>\n",
       "      <td>24894</td>\n",
       "      <td>2019</td>\n",
       "      <td>cf</td>\n",
       "      <td>Joint</td>\n",
       "      <td>pre</td>\n",
       "      <td>type1</td>\n",
       "      <td>p1</td>\n",
       "      <td>l1</td>\n",
       "      <td>nopc</td>\n",
       "      <td>nob/c</td>\n",
       "      <td>...</td>\n",
       "      <td>sb</td>\n",
       "      <td>pr</td>\n",
       "      <td>10440.0</td>\n",
       "      <td>CRIF</td>\n",
       "      <td>602</td>\n",
       "      <td>25-34</td>\n",
       "      <td>not_inst</td>\n",
       "      <td>91.886544</td>\n",
       "      <td>North</td>\n",
       "      <td>0</td>\n",
       "    </tr>\n",
       "  </tbody>\n",
       "</table>\n",
       "<p>5 rows × 25 columns</p>\n",
       "</div>"
      ],
      "text/plain": [
       "      ID  year loan_limit             Gender approv_in_adv loan_type  \\\n",
       "0  24890  2019         cf  Sex Not Available         nopre     type1   \n",
       "1  24891  2019         cf               Male         nopre     type2   \n",
       "2  24892  2019         cf               Male           pre     type1   \n",
       "3  24893  2019         cf               Male         nopre     type1   \n",
       "4  24894  2019         cf              Joint           pre     type1   \n",
       "\n",
       "  loan_purpose Credit_Worthiness open_credit business_or_commercial  ...  \\\n",
       "0           p1                l1        nopc                  nob/c  ...   \n",
       "1           p1                l1        nopc                    b/c  ...   \n",
       "2           p1                l1        nopc                  nob/c  ...   \n",
       "3           p4                l1        nopc                  nob/c  ...   \n",
       "4           p1                l1        nopc                  nob/c  ...   \n",
       "\n",
       "   construction_type  occupancy_type   income credit_type  Credit_Score  \\\n",
       "0                 sb              pr   1740.0         EXP           758   \n",
       "1                 sb              pr   4980.0        EQUI           552   \n",
       "2                 sb              pr   9480.0         EXP           834   \n",
       "3                 sb              pr  11880.0         EXP           587   \n",
       "4                 sb              pr  10440.0        CRIF           602   \n",
       "\n",
       "     age submission_of_application        LTV Region  Status  \n",
       "0  25-34                   to_inst  98.728814  south       1  \n",
       "1  55-64                   to_inst        NaN  North       1  \n",
       "2  35-44                   to_inst  80.019685  south       0  \n",
       "3  45-54                  not_inst  69.376900  North       0  \n",
       "4  25-34                  not_inst  91.886544  North       0  \n",
       "\n",
       "[5 rows x 25 columns]"
      ]
     },
     "execution_count": 2,
     "metadata": {},
     "output_type": "execute_result"
    }
   ],
   "source": [
    "df_raw = pd.read_csv('./data/Loan_Default.csv')\n",
    "df_raw.head()"
   ]
  },
  {
   "cell_type": "markdown",
   "id": "aea84c03",
   "metadata": {},
   "source": [
    "Verifique com a função .info os campos presentes na tabela"
   ]
  },
  {
   "cell_type": "code",
   "execution_count": 3,
   "id": "410524e6",
   "metadata": {
    "scrolled": false
   },
   "outputs": [
    {
     "name": "stdout",
     "output_type": "stream",
     "text": [
      "<class 'pandas.core.frame.DataFrame'>\n",
      "RangeIndex: 148670 entries, 0 to 148669\n",
      "Data columns (total 25 columns):\n",
      " #   Column                     Non-Null Count   Dtype  \n",
      "---  ------                     --------------   -----  \n",
      " 0   ID                         148670 non-null  int64  \n",
      " 1   year                       148670 non-null  int64  \n",
      " 2   loan_limit                 145326 non-null  object \n",
      " 3   Gender                     148670 non-null  object \n",
      " 4   approv_in_adv              147762 non-null  object \n",
      " 5   loan_type                  148670 non-null  object \n",
      " 6   loan_purpose               148536 non-null  object \n",
      " 7   Credit_Worthiness          148670 non-null  object \n",
      " 8   open_credit                148670 non-null  object \n",
      " 9   business_or_commercial     148670 non-null  object \n",
      " 10  loan_amount                148670 non-null  int64  \n",
      " 11  rate_of_interest           112231 non-null  float64\n",
      " 12  interest_only              148670 non-null  object \n",
      " 13  lump_sum_payment           148670 non-null  object \n",
      " 14  property_value             133572 non-null  float64\n",
      " 15  construction_type          148670 non-null  object \n",
      " 16  occupancy_type             148670 non-null  object \n",
      " 17  income                     139520 non-null  float64\n",
      " 18  credit_type                148670 non-null  object \n",
      " 19  Credit_Score               148670 non-null  int64  \n",
      " 20  age                        148470 non-null  object \n",
      " 21  submission_of_application  148470 non-null  object \n",
      " 22  LTV                        133572 non-null  float64\n",
      " 23  Region                     148670 non-null  object \n",
      " 24  Status                     148670 non-null  int64  \n",
      "dtypes: float64(4), int64(5), object(16)\n",
      "memory usage: 28.4+ MB\n"
     ]
    }
   ],
   "source": [
    "df_raw.info()"
   ]
  },
  {
   "cell_type": "markdown",
   "id": "cd9dd0b7",
   "metadata": {},
   "source": [
    "Imprima as estatísticas padrões do dataframe com a função .describe"
   ]
  },
  {
   "cell_type": "code",
   "execution_count": 4,
   "id": "a46c3178",
   "metadata": {},
   "outputs": [
    {
     "data": {
      "text/html": [
       "<div>\n",
       "<style scoped>\n",
       "    .dataframe tbody tr th:only-of-type {\n",
       "        vertical-align: middle;\n",
       "    }\n",
       "\n",
       "    .dataframe tbody tr th {\n",
       "        vertical-align: top;\n",
       "    }\n",
       "\n",
       "    .dataframe thead th {\n",
       "        text-align: right;\n",
       "    }\n",
       "</style>\n",
       "<table border=\"1\" class=\"dataframe\">\n",
       "  <thead>\n",
       "    <tr style=\"text-align: right;\">\n",
       "      <th></th>\n",
       "      <th>ID</th>\n",
       "      <th>year</th>\n",
       "      <th>loan_amount</th>\n",
       "      <th>rate_of_interest</th>\n",
       "      <th>property_value</th>\n",
       "      <th>income</th>\n",
       "      <th>Credit_Score</th>\n",
       "      <th>LTV</th>\n",
       "      <th>Status</th>\n",
       "    </tr>\n",
       "  </thead>\n",
       "  <tbody>\n",
       "    <tr>\n",
       "      <th>count</th>\n",
       "      <td>148670.000000</td>\n",
       "      <td>148670.0</td>\n",
       "      <td>1.486700e+05</td>\n",
       "      <td>112231.000000</td>\n",
       "      <td>1.335720e+05</td>\n",
       "      <td>139520.000000</td>\n",
       "      <td>148670.000000</td>\n",
       "      <td>133572.000000</td>\n",
       "      <td>148670.000000</td>\n",
       "    </tr>\n",
       "    <tr>\n",
       "      <th>mean</th>\n",
       "      <td>99224.500000</td>\n",
       "      <td>2019.0</td>\n",
       "      <td>3.311177e+05</td>\n",
       "      <td>4.045476</td>\n",
       "      <td>4.978935e+05</td>\n",
       "      <td>6957.338876</td>\n",
       "      <td>699.789103</td>\n",
       "      <td>72.746457</td>\n",
       "      <td>0.246445</td>\n",
       "    </tr>\n",
       "    <tr>\n",
       "      <th>std</th>\n",
       "      <td>42917.476598</td>\n",
       "      <td>0.0</td>\n",
       "      <td>1.839093e+05</td>\n",
       "      <td>0.561391</td>\n",
       "      <td>3.599353e+05</td>\n",
       "      <td>6496.586382</td>\n",
       "      <td>115.875857</td>\n",
       "      <td>39.967603</td>\n",
       "      <td>0.430942</td>\n",
       "    </tr>\n",
       "    <tr>\n",
       "      <th>min</th>\n",
       "      <td>24890.000000</td>\n",
       "      <td>2019.0</td>\n",
       "      <td>1.650000e+04</td>\n",
       "      <td>0.000000</td>\n",
       "      <td>8.000000e+03</td>\n",
       "      <td>0.000000</td>\n",
       "      <td>500.000000</td>\n",
       "      <td>0.967478</td>\n",
       "      <td>0.000000</td>\n",
       "    </tr>\n",
       "    <tr>\n",
       "      <th>25%</th>\n",
       "      <td>62057.250000</td>\n",
       "      <td>2019.0</td>\n",
       "      <td>1.965000e+05</td>\n",
       "      <td>3.625000</td>\n",
       "      <td>2.680000e+05</td>\n",
       "      <td>3720.000000</td>\n",
       "      <td>599.000000</td>\n",
       "      <td>60.474860</td>\n",
       "      <td>0.000000</td>\n",
       "    </tr>\n",
       "    <tr>\n",
       "      <th>50%</th>\n",
       "      <td>99224.500000</td>\n",
       "      <td>2019.0</td>\n",
       "      <td>2.965000e+05</td>\n",
       "      <td>3.990000</td>\n",
       "      <td>4.180000e+05</td>\n",
       "      <td>5760.000000</td>\n",
       "      <td>699.000000</td>\n",
       "      <td>75.135870</td>\n",
       "      <td>0.000000</td>\n",
       "    </tr>\n",
       "    <tr>\n",
       "      <th>75%</th>\n",
       "      <td>136391.750000</td>\n",
       "      <td>2019.0</td>\n",
       "      <td>4.365000e+05</td>\n",
       "      <td>4.375000</td>\n",
       "      <td>6.280000e+05</td>\n",
       "      <td>8520.000000</td>\n",
       "      <td>800.000000</td>\n",
       "      <td>86.184211</td>\n",
       "      <td>0.000000</td>\n",
       "    </tr>\n",
       "    <tr>\n",
       "      <th>max</th>\n",
       "      <td>173559.000000</td>\n",
       "      <td>2019.0</td>\n",
       "      <td>3.576500e+06</td>\n",
       "      <td>8.000000</td>\n",
       "      <td>1.650800e+07</td>\n",
       "      <td>578580.000000</td>\n",
       "      <td>900.000000</td>\n",
       "      <td>7831.250000</td>\n",
       "      <td>1.000000</td>\n",
       "    </tr>\n",
       "  </tbody>\n",
       "</table>\n",
       "</div>"
      ],
      "text/plain": [
       "                  ID      year   loan_amount  rate_of_interest  \\\n",
       "count  148670.000000  148670.0  1.486700e+05     112231.000000   \n",
       "mean    99224.500000    2019.0  3.311177e+05          4.045476   \n",
       "std     42917.476598       0.0  1.839093e+05          0.561391   \n",
       "min     24890.000000    2019.0  1.650000e+04          0.000000   \n",
       "25%     62057.250000    2019.0  1.965000e+05          3.625000   \n",
       "50%     99224.500000    2019.0  2.965000e+05          3.990000   \n",
       "75%    136391.750000    2019.0  4.365000e+05          4.375000   \n",
       "max    173559.000000    2019.0  3.576500e+06          8.000000   \n",
       "\n",
       "       property_value         income   Credit_Score            LTV  \\\n",
       "count    1.335720e+05  139520.000000  148670.000000  133572.000000   \n",
       "mean     4.978935e+05    6957.338876     699.789103      72.746457   \n",
       "std      3.599353e+05    6496.586382     115.875857      39.967603   \n",
       "min      8.000000e+03       0.000000     500.000000       0.967478   \n",
       "25%      2.680000e+05    3720.000000     599.000000      60.474860   \n",
       "50%      4.180000e+05    5760.000000     699.000000      75.135870   \n",
       "75%      6.280000e+05    8520.000000     800.000000      86.184211   \n",
       "max      1.650800e+07  578580.000000     900.000000    7831.250000   \n",
       "\n",
       "              Status  \n",
       "count  148670.000000  \n",
       "mean        0.246445  \n",
       "std         0.430942  \n",
       "min         0.000000  \n",
       "25%         0.000000  \n",
       "50%         0.000000  \n",
       "75%         0.000000  \n",
       "max         1.000000  "
      ]
     },
     "execution_count": 4,
     "metadata": {},
     "output_type": "execute_result"
    }
   ],
   "source": [
    "df_raw.describe()"
   ]
  },
  {
   "cell_type": "markdown",
   "id": "fcb2e57b",
   "metadata": {},
   "source": [
    "### Gráficos"
   ]
  },
  {
   "cell_type": "markdown",
   "id": "030d0606",
   "metadata": {},
   "source": [
    "1) Verifique sua variável de interesse (Status) como a contagem de distribuição"
   ]
  },
  {
   "cell_type": "code",
   "execution_count": 5,
   "id": "6ea8e4fe",
   "metadata": {},
   "outputs": [
    {
     "data": {
      "text/plain": [
       "0    112031\n",
       "1     36639\n",
       "Name: Status, dtype: int64"
      ]
     },
     "execution_count": 5,
     "metadata": {},
     "output_type": "execute_result"
    }
   ],
   "source": [
    "df_raw[\"Status\"].value_counts()"
   ]
  },
  {
   "cell_type": "markdown",
   "id": "f8ac0ec9",
   "metadata": {},
   "source": [
    "2) Construa um gráfico de barras que permita verificar a Bad Rate (média da coluna Status) por tipo de crédito oferecido (credit_type). "
   ]
  },
  {
   "cell_type": "code",
   "execution_count": 6,
   "id": "a21d0c85",
   "metadata": {
    "scrolled": false
   },
   "outputs": [
    {
     "data": {
      "text/plain": [
       "<AxesSubplot:title={'center':'Status médio por tipo de crédito'}, xlabel='Tipo de crédito', ylabel='Status médio'>"
      ]
     },
     "execution_count": 6,
     "metadata": {},
     "output_type": "execute_result"
    },
    {
     "data": {
      "image/png": "[encoded data removed]",
      "text/plain": [
       "<Figure size 864x432 with 1 Axes>"
      ]
     },
     "metadata": {
      "needs_background": "light"
     },
     "output_type": "display_data"
    }
   ],
   "source": [
    "df_type_status = df_raw.groupby(by=\"credit_type\")[\"Status\"].mean()\n",
    "df_type_status.plot(kind='bar',\n",
    "    figsize=(12,6),\n",
    "    title='Status médio por tipo de crédito',\n",
    "    xlabel='Tipo de crédito',\n",
    "    ylabel='Status médio'\n",
    ")"
   ]
  },
  {
   "cell_type": "markdown",
   "id": "7360bc1b",
   "metadata": {},
   "source": [
    "3) Faça um gráfico de dispersão da Credit Score pela média do Status"
   ]
  },
  {
   "cell_type": "code",
   "execution_count": 7,
   "id": "cad777dd",
   "metadata": {
    "scrolled": true
   },
   "outputs": [
    {
     "data": {
      "image/png": "[encoded data removed]",
      "text/plain": [
       "<Figure size 432x288 with 1 Axes>"
      ]
     },
     "metadata": {
      "needs_background": "light"
     },
     "output_type": "display_data"
    }
   ],
   "source": [
    "df_credit_status = df_raw.groupby(\"Credit_Score\")[\"Status\"].mean()\n",
    "ax = plt.scatter(y=df_credit_status.index, x=df_credit_status.values)"
   ]
  },
  {
   "cell_type": "markdown",
   "id": "0677a702",
   "metadata": {},
   "source": [
    "4) Por meio de um gráfico de dispersão, identifique o comportamento da média da variável de interesse (Status) por faixa etária"
   ]
  },
  {
   "cell_type": "code",
   "execution_count": 8,
   "id": "9eea0bf7",
   "metadata": {},
   "outputs": [
    {
     "data": {
      "text/plain": [
       "<matplotlib.collections.PathCollection at 0x257ce88d520>"
      ]
     },
     "execution_count": 8,
     "metadata": {},
     "output_type": "execute_result"
    },
    {
     "data": {
      "image/png": "[encoded data removed]",
      "text/plain": [
       "<Figure size 432x288 with 1 Axes>"
      ]
     },
     "metadata": {
      "needs_background": "light"
     },
     "output_type": "display_data"
    }
   ],
   "source": [
    "df_age_status = df_raw.groupby(\"age\")[\"Status\"].mean()\n",
    "plt.scatter(x=df_age_status.index, y=df_age_status.values)"
   ]
  },
  {
   "cell_type": "markdown",
   "id": "0eb2434f",
   "metadata": {},
   "source": [
    "5) Construa o histograma do montante de dívida (loan_amount) e verifique como está sua distribuição. Observe o mesmo com um gráfico boxplot."
   ]
  },
  {
   "cell_type": "code",
   "execution_count": 9,
   "id": "afc2f056",
   "metadata": {
    "scrolled": false
   },
   "outputs": [
    {
     "data": {
      "image/png": "[encoded data removed]",
      "text/plain": [
       "<Figure size 432x288 with 1 Axes>"
      ]
     },
     "metadata": {
      "needs_background": "light"
     },
     "output_type": "display_data"
    }
   ],
   "source": [
    "plt.hist(x=df_raw[\"loan_amount\"], bins=20, color='green')\n",
    "plt.show()"
   ]
  },
  {
   "cell_type": "markdown",
   "id": "c7cc10b5",
   "metadata": {},
   "source": [
    "6) Como se encontra a distribuição das faixas-etárias nesta base de dados.  \n",
    "*Obs.: utilize o gráfico de pizza*"
   ]
  },
  {
   "cell_type": "code",
   "execution_count": 42,
   "id": "4fb171c5",
   "metadata": {},
   "outputs": [
    {
     "data": {
      "image/png": "[encoded data removed]",
      "text/plain": [
       "<Figure size 432x288 with 1 Axes>"
      ]
     },
     "metadata": {},
     "output_type": "display_data"
    }
   ],
   "source": [
    "df_ages = df_raw[\"age\"]\n",
    "\n",
    "ax = plt.pie(\n",
    "    x=df_ages.value_counts(),\n",
    "    labels=df_ages.value_counts().index,\n",
    "    autopct=\"%.2f%%\",\n",
    "    radius=2,\n",
    "    shadow=True,\n",
    ")\n",
    "plt.show()"
   ]
  },
  {
   "cell_type": "markdown",
   "id": "b251b382",
   "metadata": {},
   "source": []
  }
 ],
 "metadata": {
  "kernelspec": {
   "display_name": "Python 3.9.13 64-bit (windows store)",
   "language": "python",
   "name": "python3"
  },
  "language_info": {
   "codemirror_mode": {
    "name": "ipython",
    "version": 3
   },
   "file_extension": ".py",
   "mimetype": "text/x-python",
   "name": "python",
   "nbconvert_exporter": "python",
   "pygments_lexer": "ipython3",
   "version": "3.9.13"
  },
  "vscode": {
   "interpreter": {
    "hash": "dd6fa4d6f0a1a7aa9bdc072883c48976994fbf14d27bb5862e9df6e6cd5aadee"
   }
  }
 },
 "nbformat": 4,
 "nbformat_minor": 5
}
