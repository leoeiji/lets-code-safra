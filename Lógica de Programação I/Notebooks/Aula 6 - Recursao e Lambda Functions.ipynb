{
 "cells": [
  {
   "cell_type": "markdown",
   "metadata": {},
   "source": [
    "# Recursividade"
   ]
  },
  {
   "cell_type": "markdown",
   "metadata": {},
   "source": [
    "5! = 5.4.3.2.1\n",
    "\n",
    "4! = 4.3.2.1\n",
    "\n",
    "3! = 3.2.1\n",
    "\n",
    "5! = 5.4!\n",
    "\n",
    "4! = 4.3!\n",
    "\n",
    "3! = 3.2!\n",
    "\n",
    "2! = 2.1!\n",
    "\n",
    "1! = 1.0!\n",
    "\n",
    "0! = 1\n",
    "\n",
    "5! = 5.4.3!"
   ]
  },
  {
   "cell_type": "code",
   "execution_count": null,
   "metadata": {},
   "outputs": [],
   "source": []
  },
  {
   "cell_type": "markdown",
   "metadata": {},
   "source": [
    "Função que retorna o N-ésimo elemento de fibonacci"
   ]
  },
  {
   "cell_type": "code",
   "execution_count": 14,
   "metadata": {},
   "outputs": [
    {
     "name": "stdout",
     "output_type": "stream",
     "text": [
      "16.8 µs ± 969 ns per loop (mean ± std. dev. of 7 runs, 100,000 loops each)\n"
     ]
    }
   ],
   "source": [
    "%%timeit\n",
    "def fibonacci(n):\n",
    "    if n == 0:\n",
    "        return 0\n",
    "    elif n == 1:\n",
    "        return 1\n",
    "    else:\n",
    "        return fibonacci(n - 1) + fibonacci(n - 2)\n",
    "\n",
    "fibonacci(10)"
   ]
  },
  {
   "cell_type": "code",
   "execution_count": 6,
   "metadata": {},
   "outputs": [
    {
     "name": "stdout",
     "output_type": "stream",
     "text": [
      "608 ns ± 10.2 ns per loop (mean ± std. dev. of 7 runs, 1,000,000 loops each)\n"
     ]
    }
   ],
   "source": [
    "%%timeit\n",
    "def fibo(n: int) -> int:\n",
    "    if n==0:return n\n",
    "    ult: int = 0\n",
    "    prox: int = 1\n",
    "    for _ in range(1, n):\n",
    "        ult, prox = prox, ult + prox\n",
    "    return prox\n",
    "\n",
    "fibo(10)"
   ]
  },
  {
   "cell_type": "code",
   "execution_count": 5,
   "metadata": {},
   "outputs": [
    {
     "name": "stdout",
     "output_type": "stream",
     "text": [
      "4.41 µs ± 63.8 ns per loop (mean ± std. dev. of 7 runs, 100,000 loops each)\n"
     ]
    }
   ],
   "source": [
    "%%timeit\n",
    "from functools import lru_cache\n",
    "\n",
    "@lru_cache(maxsize=None)\n",
    "def fibonacci(n):\n",
    "    if n == 1:\n",
    "        return 0\n",
    "    elif n == 2:\n",
    "        return 1\n",
    "    else:\n",
    "        return fibonacci(n - 1) + fibonacci(n - 2)\n",
    "\n",
    "fibonacci(10)"
   ]
  },
  {
   "cell_type": "code",
   "execution_count": null,
   "metadata": {},
   "outputs": [],
   "source": []
  },
  {
   "cell_type": "code",
   "execution_count": 4,
   "metadata": {},
   "outputs": [
    {
     "name": "stdout",
     "output_type": "stream",
     "text": [
      "2.47 µs ± 57.8 ns per loop (mean ± std. dev. of 7 runs, 100,000 loops each)\n"
     ]
    }
   ],
   "source": [
    "%%timeit\n",
    "\n",
    "def fibonacci(n, memo=[0, 1]):\n",
    "    if len(memo) >= n:\n",
    "        return memo[n - 1]\n",
    "    else:\n",
    "        memo.append(fibonacci(n - 1, memo) + fibonacci(n - 2, memo))\n",
    "        return memo[-1]\n",
    "\n",
    "fibonacci(10)\n"
   ]
  },
  {
   "cell_type": "markdown",
   "metadata": {},
   "source": [
    "Função que soma listas com sublistas"
   ]
  },
  {
   "cell_type": "code",
   "execution_count": null,
   "metadata": {},
   "outputs": [],
   "source": [
    "listaGabarito = [[0, 3, 5, 1], 2, 3, [2, [5, 6, 7, [1, 4, 6]], 3], 2, [3, 5, 10, [6]]]\n",
    "print(somaTudo(listaGabarito))"
   ]
  },
  {
   "cell_type": "markdown",
   "metadata": {},
   "source": [
    "# Funções Lambda"
   ]
  },
  {
   "cell_type": "markdown",
   "metadata": {},
   "source": [
    "lambda (parametros): (retorno/expressao)"
   ]
  },
  {
   "cell_type": "code",
   "execution_count": null,
   "metadata": {},
   "outputs": [],
   "source": [
    "somaDois = lambda x: x + 2"
   ]
  },
  {
   "cell_type": "code",
   "execution_count": null,
   "metadata": {},
   "outputs": [],
   "source": [
    "somaDois(7)"
   ]
  },
  {
   "cell_type": "code",
   "execution_count": null,
   "metadata": {},
   "outputs": [],
   "source": [
    "calculaArea = lambda x, y: x*y\n",
    "calculaArea(3, 2)"
   ]
  },
  {
   "cell_type": "code",
   "execution_count": null,
   "metadata": {},
   "outputs": [],
   "source": [
    "type(calculaArea)"
   ]
  },
  {
   "cell_type": "markdown",
   "metadata": {},
   "source": [
    "Funções anônimas"
   ]
  },
  {
   "cell_type": "code",
   "execution_count": null,
   "metadata": {},
   "outputs": [],
   "source": [
    "def funcaoMultiplicadora(n):\n",
    "    return lambda x : x * n"
   ]
  },
  {
   "cell_type": "code",
   "execution_count": null,
   "metadata": {},
   "outputs": [],
   "source": [
    "dobradora = funcaoMultiplicadora(2)"
   ]
  },
  {
   "cell_type": "code",
   "execution_count": null,
   "metadata": {},
   "outputs": [],
   "source": [
    "dobradora = lambda x : x * 2"
   ]
  },
  {
   "cell_type": "code",
   "execution_count": null,
   "metadata": {},
   "outputs": [],
   "source": [
    "dobradora(10)"
   ]
  },
  {
   "cell_type": "code",
   "execution_count": null,
   "metadata": {},
   "outputs": [],
   "source": [
    "triplicadora = funcaoMultiplicadora(3)"
   ]
  },
  {
   "cell_type": "code",
   "execution_count": null,
   "metadata": {},
   "outputs": [],
   "source": [
    "triplicadora = lambda x : x * 3\n",
    "\n",
    "# def triplicadora(x):\n",
    "#     return x * 3"
   ]
  },
  {
   "cell_type": "code",
   "execution_count": null,
   "metadata": {},
   "outputs": [],
   "source": [
    "triplicadora(5)"
   ]
  },
  {
   "cell_type": "code",
   "execution_count": null,
   "metadata": {},
   "outputs": [],
   "source": [
    "listaTeste = [\n",
    "    [\"c\", 1],\n",
    "    [\"d\", 2],\n",
    "    [\"a\", 5],\n",
    "    [\"b\", 3],\n",
    "    [\"a\", 3]\n",
    "]"
   ]
  },
  {
   "cell_type": "code",
   "execution_count": null,
   "metadata": {},
   "outputs": [],
   "source": [
    "listaReferencias = lambda x : [x[1], x[0]]\n",
    "\n",
    "listaReferencias(listaTeste[1])"
   ]
  },
  {
   "cell_type": "code",
   "execution_count": null,
   "metadata": {},
   "outputs": [],
   "source": [
    "segundaColuna = lambda x : x[1]"
   ]
  },
  {
   "cell_type": "code",
   "execution_count": null,
   "metadata": {},
   "outputs": [],
   "source": [
    "segundaColuna(listaTeste[4])"
   ]
  },
  {
   "cell_type": "code",
   "execution_count": null,
   "metadata": {},
   "outputs": [],
   "source": [
    "def colunaDois(x):\n",
    "    return x[1]"
   ]
  },
  {
   "cell_type": "code",
   "execution_count": null,
   "metadata": {},
   "outputs": [],
   "source": [
    "listaTeste.sort(key = lambda x : x[1])\n",
    "listaTeste"
   ]
  },
  {
   "cell_type": "code",
   "execution_count": null,
   "metadata": {},
   "outputs": [],
   "source": [
    "listaTeste.sort(key = lambda x : [x[1], x[0]])\n",
    "listaTeste"
   ]
  },
  {
   "cell_type": "markdown",
   "metadata": {},
   "source": [
    "Aplicação prática"
   ]
  },
  {
   "cell_type": "code",
   "execution_count": null,
   "metadata": {},
   "outputs": [],
   "source": [
    "dicionarioFormulas = {\n",
    "    \"Q\": lambda x : x**2,\n",
    "    \"C\": lambda r : 3.14159*r**2,\n",
    "    \"T\": lambda x : ((3**(1/2))/4)*(x**2)\n",
    "}\n",
    "\n",
    "def calculaArea(lado, funcao):\n",
    "    return funcao(lado)\n",
    "\n",
    "formaGeometrica = input(\"Qual forma você deseja calcular a área?(Q/C/T) \")\n",
    "tamanhoLado = int(input(\"Qual o tamanho da referência? \"))\n",
    "\n",
    "print(calculaArea(tamanhoLado, dicionarioFormulas[formaGeometrica]))"
   ]
  }
 ],
 "metadata": {
  "interpreter": {
   "hash": "dd6fa4d6f0a1a7aa9bdc072883c48976994fbf14d27bb5862e9df6e6cd5aadee"
  },
  "kernelspec": {
   "display_name": "Python 3.9.13 64-bit (windows store)",
   "language": "python",
   "name": "python3"
  },
  "language_info": {
   "codemirror_mode": {
    "name": "ipython",
    "version": 3
   },
   "file_extension": ".py",
   "mimetype": "text/x-python",
   "name": "python",
   "nbconvert_exporter": "python",
   "pygments_lexer": "ipython3",
   "version": "3.9.13"
  }
 },
 "nbformat": 4,
 "nbformat_minor": 4
}
